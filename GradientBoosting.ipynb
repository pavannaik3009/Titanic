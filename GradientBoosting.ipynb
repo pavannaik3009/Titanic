{
 "cells": [
  {
   "cell_type": "code",
   "execution_count": 1,
   "metadata": {},
   "outputs": [],
   "source": [
    "import joblib\n",
    "import pandas as pd\n",
    "from sklearn.ensemble import GradientBoostingClassifier\n",
    "from sklearn.model_selection import GridSearchCV\n",
    "import warnings\n",
    "warnings.filterwarnings('ignore', category=FutureWarning)\n",
    "warnings.filterwarnings('ignore', category=DeprecationWarning)\n",
    "\n",
    "tr_features = pd.read_csv('train_features.csv')\n",
    "tr_labels = pd.read_csv('train_labels.csv', header=None)"
   ]
  },
  {
   "cell_type": "code",
   "execution_count": 2,
   "metadata": {},
   "outputs": [],
   "source": [
    "def print_results(results):\n",
    "    print('BEST PARAMS: {}\\n'.format(results.best_params_))\n",
    "\n",
    "    means = results.cv_results_['mean_test_score']\n",
    "    stds = results.cv_results_['std_test_score']\n",
    "    for mean, std, params in zip(means, stds, results.cv_results_['params']):\n",
    "        print('{} (+/-{}) for {}'.format(round(mean, 3), round(std * 2, 3), params))"
   ]
  },
  {
   "cell_type": "code",
   "execution_count": 3,
   "metadata": {},
   "outputs": [
    {
     "name": "stdout",
     "output_type": "stream",
     "text": [
      "BEST PARAMS: {'learning_rate': 0.01, 'max_depth': 3, 'n_estimators': 500}\n",
      "\n",
      "0.624 (+/-0.005) for {'learning_rate': 0.01, 'max_depth': 1, 'n_estimators': 5}\n",
      "0.796 (+/-0.116) for {'learning_rate': 0.01, 'max_depth': 1, 'n_estimators': 50}\n",
      "0.796 (+/-0.116) for {'learning_rate': 0.01, 'max_depth': 1, 'n_estimators': 250}\n",
      "0.811 (+/-0.118) for {'learning_rate': 0.01, 'max_depth': 1, 'n_estimators': 500}\n",
      "0.624 (+/-0.005) for {'learning_rate': 0.01, 'max_depth': 3, 'n_estimators': 5}\n",
      "0.811 (+/-0.071) for {'learning_rate': 0.01, 'max_depth': 3, 'n_estimators': 50}\n",
      "0.83 (+/-0.076) for {'learning_rate': 0.01, 'max_depth': 3, 'n_estimators': 250}\n",
      "0.841 (+/-0.079) for {'learning_rate': 0.01, 'max_depth': 3, 'n_estimators': 500}\n",
      "0.624 (+/-0.005) for {'learning_rate': 0.01, 'max_depth': 5, 'n_estimators': 5}\n",
      "0.82 (+/-0.052) for {'learning_rate': 0.01, 'max_depth': 5, 'n_estimators': 50}\n",
      "0.82 (+/-0.039) for {'learning_rate': 0.01, 'max_depth': 5, 'n_estimators': 250}\n",
      "0.831 (+/-0.043) for {'learning_rate': 0.01, 'max_depth': 5, 'n_estimators': 500}\n",
      "0.624 (+/-0.005) for {'learning_rate': 0.01, 'max_depth': 7, 'n_estimators': 5}\n",
      "0.816 (+/-0.051) for {'learning_rate': 0.01, 'max_depth': 7, 'n_estimators': 50}\n",
      "0.816 (+/-0.035) for {'learning_rate': 0.01, 'max_depth': 7, 'n_estimators': 250}\n",
      "0.803 (+/-0.021) for {'learning_rate': 0.01, 'max_depth': 7, 'n_estimators': 500}\n",
      "0.624 (+/-0.005) for {'learning_rate': 0.01, 'max_depth': 9, 'n_estimators': 5}\n",
      "0.801 (+/-0.055) for {'learning_rate': 0.01, 'max_depth': 9, 'n_estimators': 50}\n",
      "0.807 (+/-0.018) for {'learning_rate': 0.01, 'max_depth': 9, 'n_estimators': 250}\n",
      "0.779 (+/-0.033) for {'learning_rate': 0.01, 'max_depth': 9, 'n_estimators': 500}\n",
      "0.796 (+/-0.116) for {'learning_rate': 0.1, 'max_depth': 1, 'n_estimators': 5}\n",
      "0.815 (+/-0.12) for {'learning_rate': 0.1, 'max_depth': 1, 'n_estimators': 50}\n",
      "0.818 (+/-0.112) for {'learning_rate': 0.1, 'max_depth': 1, 'n_estimators': 250}\n",
      "0.828 (+/-0.093) for {'learning_rate': 0.1, 'max_depth': 1, 'n_estimators': 500}\n",
      "0.813 (+/-0.073) for {'learning_rate': 0.1, 'max_depth': 3, 'n_estimators': 5}\n",
      "0.835 (+/-0.082) for {'learning_rate': 0.1, 'max_depth': 3, 'n_estimators': 50}\n",
      "0.822 (+/-0.028) for {'learning_rate': 0.1, 'max_depth': 3, 'n_estimators': 250}\n",
      "0.811 (+/-0.03) for {'learning_rate': 0.1, 'max_depth': 3, 'n_estimators': 500}\n",
      "0.816 (+/-0.046) for {'learning_rate': 0.1, 'max_depth': 5, 'n_estimators': 5}\n",
      "0.824 (+/-0.01) for {'learning_rate': 0.1, 'max_depth': 5, 'n_estimators': 50}\n",
      "0.8 (+/-0.054) for {'learning_rate': 0.1, 'max_depth': 5, 'n_estimators': 250}\n",
      "0.805 (+/-0.041) for {'learning_rate': 0.1, 'max_depth': 5, 'n_estimators': 500}\n",
      "0.816 (+/-0.049) for {'learning_rate': 0.1, 'max_depth': 7, 'n_estimators': 5}\n",
      "0.798 (+/-0.026) for {'learning_rate': 0.1, 'max_depth': 7, 'n_estimators': 50}\n",
      "0.796 (+/-0.047) for {'learning_rate': 0.1, 'max_depth': 7, 'n_estimators': 250}\n",
      "0.801 (+/-0.039) for {'learning_rate': 0.1, 'max_depth': 7, 'n_estimators': 500}\n",
      "0.803 (+/-0.049) for {'learning_rate': 0.1, 'max_depth': 9, 'n_estimators': 5}\n",
      "0.783 (+/-0.039) for {'learning_rate': 0.1, 'max_depth': 9, 'n_estimators': 50}\n",
      "0.788 (+/-0.047) for {'learning_rate': 0.1, 'max_depth': 9, 'n_estimators': 250}\n",
      "0.79 (+/-0.046) for {'learning_rate': 0.1, 'max_depth': 9, 'n_estimators': 500}\n",
      "0.818 (+/-0.1) for {'learning_rate': 1, 'max_depth': 1, 'n_estimators': 5}\n",
      "0.83 (+/-0.078) for {'learning_rate': 1, 'max_depth': 1, 'n_estimators': 50}\n",
      "0.828 (+/-0.069) for {'learning_rate': 1, 'max_depth': 1, 'n_estimators': 250}\n",
      "0.818 (+/-0.082) for {'learning_rate': 1, 'max_depth': 1, 'n_estimators': 500}\n",
      "0.82 (+/-0.063) for {'learning_rate': 1, 'max_depth': 3, 'n_estimators': 5}\n",
      "0.794 (+/-0.038) for {'learning_rate': 1, 'max_depth': 3, 'n_estimators': 50}\n",
      "0.801 (+/-0.038) for {'learning_rate': 1, 'max_depth': 3, 'n_estimators': 250}\n",
      "0.801 (+/-0.048) for {'learning_rate': 1, 'max_depth': 3, 'n_estimators': 500}\n",
      "0.792 (+/-0.063) for {'learning_rate': 1, 'max_depth': 5, 'n_estimators': 5}\n",
      "0.8 (+/-0.076) for {'learning_rate': 1, 'max_depth': 5, 'n_estimators': 50}\n",
      "0.796 (+/-0.065) for {'learning_rate': 1, 'max_depth': 5, 'n_estimators': 250}\n",
      "0.807 (+/-0.086) for {'learning_rate': 1, 'max_depth': 5, 'n_estimators': 500}\n",
      "0.788 (+/-0.021) for {'learning_rate': 1, 'max_depth': 7, 'n_estimators': 5}\n",
      "0.8 (+/-0.045) for {'learning_rate': 1, 'max_depth': 7, 'n_estimators': 50}\n",
      "0.801 (+/-0.052) for {'learning_rate': 1, 'max_depth': 7, 'n_estimators': 250}\n",
      "0.788 (+/-0.061) for {'learning_rate': 1, 'max_depth': 7, 'n_estimators': 500}\n",
      "0.781 (+/-0.041) for {'learning_rate': 1, 'max_depth': 9, 'n_estimators': 5}\n",
      "0.785 (+/-0.029) for {'learning_rate': 1, 'max_depth': 9, 'n_estimators': 50}\n",
      "0.787 (+/-0.058) for {'learning_rate': 1, 'max_depth': 9, 'n_estimators': 250}\n",
      "0.792 (+/-0.025) for {'learning_rate': 1, 'max_depth': 9, 'n_estimators': 500}\n",
      "0.204 (+/-0.116) for {'learning_rate': 10, 'max_depth': 1, 'n_estimators': 5}\n",
      "0.204 (+/-0.116) for {'learning_rate': 10, 'max_depth': 1, 'n_estimators': 50}\n",
      "0.204 (+/-0.116) for {'learning_rate': 10, 'max_depth': 1, 'n_estimators': 250}\n",
      "0.204 (+/-0.116) for {'learning_rate': 10, 'max_depth': 1, 'n_estimators': 500}\n",
      "0.311 (+/-0.192) for {'learning_rate': 10, 'max_depth': 3, 'n_estimators': 5}\n",
      "0.311 (+/-0.192) for {'learning_rate': 10, 'max_depth': 3, 'n_estimators': 50}\n",
      "0.311 (+/-0.192) for {'learning_rate': 10, 'max_depth': 3, 'n_estimators': 250}\n",
      "0.311 (+/-0.192) for {'learning_rate': 10, 'max_depth': 3, 'n_estimators': 500}\n",
      "0.487 (+/-0.336) for {'learning_rate': 10, 'max_depth': 5, 'n_estimators': 5}\n",
      "0.446 (+/-0.313) for {'learning_rate': 10, 'max_depth': 5, 'n_estimators': 50}\n",
      "0.438 (+/-0.303) for {'learning_rate': 10, 'max_depth': 5, 'n_estimators': 250}\n",
      "0.498 (+/-0.364) for {'learning_rate': 10, 'max_depth': 5, 'n_estimators': 500}\n",
      "0.625 (+/-0.164) for {'learning_rate': 10, 'max_depth': 7, 'n_estimators': 5}\n",
      "0.625 (+/-0.164) for {'learning_rate': 10, 'max_depth': 7, 'n_estimators': 50}\n",
      "0.594 (+/-0.185) for {'learning_rate': 10, 'max_depth': 7, 'n_estimators': 250}\n",
      "0.59 (+/-0.193) for {'learning_rate': 10, 'max_depth': 7, 'n_estimators': 500}\n",
      "0.704 (+/-0.118) for {'learning_rate': 10, 'max_depth': 9, 'n_estimators': 5}\n",
      "0.719 (+/-0.138) for {'learning_rate': 10, 'max_depth': 9, 'n_estimators': 50}\n",
      "0.704 (+/-0.138) for {'learning_rate': 10, 'max_depth': 9, 'n_estimators': 250}\n",
      "0.682 (+/-0.142) for {'learning_rate': 10, 'max_depth': 9, 'n_estimators': 500}\n",
      "0.376 (+/-0.005) for {'learning_rate': 100, 'max_depth': 1, 'n_estimators': 5}\n",
      "0.376 (+/-0.005) for {'learning_rate': 100, 'max_depth': 1, 'n_estimators': 50}\n",
      "0.376 (+/-0.005) for {'learning_rate': 100, 'max_depth': 1, 'n_estimators': 250}\n",
      "0.376 (+/-0.005) for {'learning_rate': 100, 'max_depth': 1, 'n_estimators': 500}\n",
      "0.29 (+/-0.104) for {'learning_rate': 100, 'max_depth': 3, 'n_estimators': 5}\n",
      "0.29 (+/-0.104) for {'learning_rate': 100, 'max_depth': 3, 'n_estimators': 50}\n",
      "0.29 (+/-0.104) for {'learning_rate': 100, 'max_depth': 3, 'n_estimators': 250}\n",
      "0.29 (+/-0.104) for {'learning_rate': 100, 'max_depth': 3, 'n_estimators': 500}\n",
      "0.373 (+/-0.17) for {'learning_rate': 100, 'max_depth': 5, 'n_estimators': 5}\n",
      "0.38 (+/-0.184) for {'learning_rate': 100, 'max_depth': 5, 'n_estimators': 50}\n",
      "0.371 (+/-0.177) for {'learning_rate': 100, 'max_depth': 5, 'n_estimators': 250}\n",
      "0.375 (+/-0.174) for {'learning_rate': 100, 'max_depth': 5, 'n_estimators': 500}\n",
      "0.579 (+/-0.104) for {'learning_rate': 100, 'max_depth': 7, 'n_estimators': 5}\n",
      "0.597 (+/-0.103) for {'learning_rate': 100, 'max_depth': 7, 'n_estimators': 50}\n",
      "0.554 (+/-0.106) for {'learning_rate': 100, 'max_depth': 7, 'n_estimators': 250}\n",
      "0.582 (+/-0.092) for {'learning_rate': 100, 'max_depth': 7, 'n_estimators': 500}\n",
      "0.67 (+/-0.058) for {'learning_rate': 100, 'max_depth': 9, 'n_estimators': 5}\n",
      "0.676 (+/-0.094) for {'learning_rate': 100, 'max_depth': 9, 'n_estimators': 50}\n",
      "0.663 (+/-0.064) for {'learning_rate': 100, 'max_depth': 9, 'n_estimators': 250}\n",
      "0.672 (+/-0.097) for {'learning_rate': 100, 'max_depth': 9, 'n_estimators': 500}\n"
     ]
    }
   ],
   "source": [
    "gb = GradientBoostingClassifier()\n",
    "parameters = {\n",
    "    'n_estimators': [5, 50, 250, 500],\n",
    "    'max_depth': [1, 3, 5, 7, 9],\n",
    "    'learning_rate': [0.01, 0.1, 1, 10, 100]\n",
    "}\n",
    "\n",
    "cv = GridSearchCV(gb, parameters, cv=5)\n",
    "cv.fit(tr_features, tr_labels.values.ravel())\n",
    "\n",
    "print_results(cv)"
   ]
  },
  {
   "cell_type": "code",
   "execution_count": 4,
   "metadata": {},
   "outputs": [
    {
     "data": {
      "text/plain": [
       "GradientBoostingClassifier(criterion='friedman_mse', init=None,\n",
       "                           learning_rate=0.01, loss='deviance', max_depth=3,\n",
       "                           max_features=None, max_leaf_nodes=None,\n",
       "                           min_impurity_decrease=0.0, min_impurity_split=None,\n",
       "                           min_samples_leaf=1, min_samples_split=2,\n",
       "                           min_weight_fraction_leaf=0.0, n_estimators=500,\n",
       "                           n_iter_no_change=None, presort='auto',\n",
       "                           random_state=None, subsample=1.0, tol=0.0001,\n",
       "                           validation_fraction=0.1, verbose=0,\n",
       "                           warm_start=False)"
      ]
     },
     "execution_count": 4,
     "metadata": {},
     "output_type": "execute_result"
    }
   ],
   "source": [
    "cv.best_estimator_"
   ]
  },
  {
   "cell_type": "code",
   "execution_count": 5,
   "metadata": {},
   "outputs": [
    {
     "data": {
      "text/plain": [
       "['GB_model.pkl']"
      ]
     },
     "execution_count": 5,
     "metadata": {},
     "output_type": "execute_result"
    }
   ],
   "source": [
    "joblib.dump(cv.best_estimator_, 'GB_model.pkl')"
   ]
  },
  {
   "cell_type": "code",
   "execution_count": null,
   "metadata": {},
   "outputs": [],
   "source": []
  }
 ],
 "metadata": {
  "kernelspec": {
   "display_name": "Python 3",
   "language": "python",
   "name": "python3"
  },
  "language_info": {
   "codemirror_mode": {
    "name": "ipython",
    "version": 3
   },
   "file_extension": ".py",
   "mimetype": "text/x-python",
   "name": "python",
   "nbconvert_exporter": "python",
   "pygments_lexer": "ipython3",
   "version": "3.6.8"
  }
 },
 "nbformat": 4,
 "nbformat_minor": 2
}
