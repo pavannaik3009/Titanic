{
 "cells": [
  {
   "cell_type": "code",
   "execution_count": 1,
   "metadata": {},
   "outputs": [],
   "source": [
    "import joblib\n",
    "import pandas as pd\n",
    "from sklearn.ensemble import RandomForestClassifier\n",
    "from sklearn.model_selection import GridSearchCV\n",
    "import warnings\n",
    "warnings.filterwarnings('ignore', category=FutureWarning)\n",
    "warnings.filterwarnings('ignore', category=DeprecationWarning)\n",
    "\n",
    "tr_features = pd.read_csv('train_features.csv')\n",
    "tr_labels = pd.read_csv('train_labels.csv', header=None)"
   ]
  },
  {
   "cell_type": "code",
   "execution_count": 2,
   "metadata": {},
   "outputs": [],
   "source": [
    "def print_results(results):\n",
    "    print('BEST PARAMS: {}\\n'.format(results.best_params_))\n",
    "\n",
    "    means = results.cv_results_['mean_test_score']\n",
    "    stds = results.cv_results_['std_test_score']\n",
    "    for mean, std, params in zip(means, stds, results.cv_results_['params']):\n",
    "        print('{} (+/-{}) for {}'.format(round(mean, 3), round(std * 2, 3), params))"
   ]
  },
  {
   "cell_type": "code",
   "execution_count": 3,
   "metadata": {},
   "outputs": [
    {
     "name": "stdout",
     "output_type": "stream",
     "text": [
      "BEST PARAMS: {'max_depth': 8, 'n_estimators': 5}\n",
      "\n",
      "0.777 (+/-0.111) for {'max_depth': 2, 'n_estimators': 5}\n",
      "0.79 (+/-0.107) for {'max_depth': 2, 'n_estimators': 50}\n",
      "0.8 (+/-0.118) for {'max_depth': 2, 'n_estimators': 250}\n",
      "0.809 (+/-0.084) for {'max_depth': 4, 'n_estimators': 5}\n",
      "0.826 (+/-0.098) for {'max_depth': 4, 'n_estimators': 50}\n",
      "0.824 (+/-0.118) for {'max_depth': 4, 'n_estimators': 250}\n",
      "0.831 (+/-0.068) for {'max_depth': 8, 'n_estimators': 5}\n",
      "0.828 (+/-0.06) for {'max_depth': 8, 'n_estimators': 50}\n",
      "0.82 (+/-0.056) for {'max_depth': 8, 'n_estimators': 250}\n",
      "0.818 (+/-0.066) for {'max_depth': 16, 'n_estimators': 5}\n",
      "0.809 (+/-0.044) for {'max_depth': 16, 'n_estimators': 50}\n",
      "0.807 (+/-0.041) for {'max_depth': 16, 'n_estimators': 250}\n",
      "0.785 (+/-0.094) for {'max_depth': 32, 'n_estimators': 5}\n",
      "0.807 (+/-0.039) for {'max_depth': 32, 'n_estimators': 50}\n",
      "0.809 (+/-0.025) for {'max_depth': 32, 'n_estimators': 250}\n",
      "0.798 (+/-0.032) for {'max_depth': None, 'n_estimators': 5}\n",
      "0.803 (+/-0.032) for {'max_depth': None, 'n_estimators': 50}\n",
      "0.813 (+/-0.027) for {'max_depth': None, 'n_estimators': 250}\n"
     ]
    }
   ],
   "source": [
    "rf = RandomForestClassifier()\n",
    "parameters = {\n",
    "    'n_estimators': [5, 50, 250],\n",
    "    'max_depth': [2, 4, 8, 16, 32, None]\n",
    "}\n",
    "\n",
    "cv = GridSearchCV(rf, parameters, cv=5)\n",
    "cv.fit(tr_features, tr_labels.values.ravel())\n",
    "\n",
    "print_results(cv)"
   ]
  },
  {
   "cell_type": "code",
   "execution_count": 4,
   "metadata": {},
   "outputs": [
    {
     "data": {
      "text/plain": [
       "RandomForestClassifier(bootstrap=True, class_weight=None, criterion='gini',\n",
       "                       max_depth=8, max_features='auto', max_leaf_nodes=None,\n",
       "                       min_impurity_decrease=0.0, min_impurity_split=None,\n",
       "                       min_samples_leaf=1, min_samples_split=2,\n",
       "                       min_weight_fraction_leaf=0.0, n_estimators=5,\n",
       "                       n_jobs=None, oob_score=False, random_state=None,\n",
       "                       verbose=0, warm_start=False)"
      ]
     },
     "execution_count": 4,
     "metadata": {},
     "output_type": "execute_result"
    }
   ],
   "source": [
    "cv.best_estimator_"
   ]
  },
  {
   "cell_type": "code",
   "execution_count": 5,
   "metadata": {},
   "outputs": [
    {
     "data": {
      "text/plain": [
       "['RF_model.pkl']"
      ]
     },
     "execution_count": 5,
     "metadata": {},
     "output_type": "execute_result"
    }
   ],
   "source": [
    "joblib.dump(cv.best_estimator_, 'RF_model.pkl')"
   ]
  },
  {
   "cell_type": "code",
   "execution_count": null,
   "metadata": {},
   "outputs": [],
   "source": []
  }
 ],
 "metadata": {
  "kernelspec": {
   "display_name": "Python 3",
   "language": "python",
   "name": "python3"
  },
  "language_info": {
   "codemirror_mode": {
    "name": "ipython",
    "version": 3
   },
   "file_extension": ".py",
   "mimetype": "text/x-python",
   "name": "python",
   "nbconvert_exporter": "python",
   "pygments_lexer": "ipython3",
   "version": "3.6.8"
  }
 },
 "nbformat": 4,
 "nbformat_minor": 2
}
